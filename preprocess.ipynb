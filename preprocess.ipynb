{
 "cells": [
  {
   "cell_type": "code",
   "execution_count": 1,
   "metadata": {},
   "outputs": [],
   "source": [
    "import vaex\n",
    "import matplotlib.pyplot as plt\n",
    "import pandas as pd\n",
    "import string"
   ]
  },
  {
   "cell_type": "code",
   "execution_count": 2,
   "metadata": {},
   "outputs": [],
   "source": [
    "def func(meanings):\n",
    "\n",
    "    concatenated_meanings = []\n",
    "    for i, meaning in enumerate(meanings):\n",
    "        concatenated_meanings.append(str(i+1))\n",
    "        \n",
    "        # PART OF SPEECH\n",
    "        speech_part = meaning.get(\"speech_part\")\n",
    "        if speech_part:\n",
    "            concatenated_meanings.append(\"<speech_part>\")\n",
    "            concatenated_meanings.append(speech_part)\n",
    "\n",
    "        # DEFINITION\n",
    "        definition = meaning.get(\"def\")\n",
    "        if definition:\n",
    "            concatenated_meanings.append(\"<def>\")\n",
    "            concatenated_meanings.append(definition)\n",
    "        \n",
    "        # EXAMPLE\n",
    "        example = meaning.get(\"example\")\n",
    "        if example:\n",
    "            concatenated_meanings.append(\"<example>\")\n",
    "            concatenated_meanings.append(example)\n",
    "\n",
    "    return \" \".join(concatenated_meanings)"
   ]
  },
  {
   "cell_type": "code",
   "execution_count": 3,
   "metadata": {},
   "outputs": [],
   "source": [
    "list_of_df_names = list(string.ascii_lowercase)\n",
    "list_of_df_names.append(\"misc\")"
   ]
  },
  {
   "cell_type": "code",
   "execution_count": 10,
   "metadata": {},
   "outputs": [],
   "source": [
    "full_dictionary = pd.DataFrame()\n",
    "\n",
    "for df_name in list_of_df_names:\n",
    "    df = vaex.from_json('data/' + df_name + '.json', orient='index')\n",
    "    df = df.dropna([\"meanings\"])\n",
    "    df[\"target_text\"] = df.meanings.apply(func)\n",
    "    df[\"input_text\"] = \"define: \" + df.word\n",
    "    df = df[[\"input_text\", \"target_text\"]]\n",
    "    full_dictionary = pd.concat([full_dictionary, df.to_pandas_df()], ignore_index=True)"
   ]
  },
  {
   "cell_type": "code",
   "execution_count": 12,
   "metadata": {},
   "outputs": [],
   "source": [
    "full_dictionary = full_dictionary.sample(frac=1).reset_index(drop=True)"
   ]
  },
  {
   "cell_type": "code",
   "execution_count": 13,
   "metadata": {},
   "outputs": [],
   "source": [
    "full_dictionary.to_csv(\"dictionary.csv\", index=False)"
   ]
  },
  {
   "cell_type": "code",
   "execution_count": 63,
   "metadata": {},
   "outputs": [],
   "source": [
    "# df[\"target_len\"] = df.target_text.apply(lambda x: len(x))\n",
    "# df[\"target_num_defs\"] = df.target_text.apply(lambda x: x.count(\"<def>\"))\n",
    "# plt.hist(df[\"target_len\"].tolist())\n",
    "# plt.hist(df[\"target_num_defs\"].tolist())"
   ]
  }
 ],
 "metadata": {
  "kernelspec": {
   "display_name": "Python 3",
   "language": "python",
   "name": "python3"
  },
  "language_info": {
   "codemirror_mode": {
    "name": "ipython",
    "version": 3
   },
   "file_extension": ".py",
   "mimetype": "text/x-python",
   "name": "python",
   "nbconvert_exporter": "python",
   "pygments_lexer": "ipython3",
   "version": "3.8.5"
  }
 },
 "nbformat": 4,
 "nbformat_minor": 4
}
